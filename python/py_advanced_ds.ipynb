{
 "cells": [
  {
   "cell_type": "markdown",
   "source": [
    "# Defaultdict"
   ],
   "metadata": {}
  },
  {
   "cell_type": "code",
   "execution_count": 17,
   "source": [
    "\n",
    "\n",
    "from collections import defaultdict\n",
    "\n",
    "\n",
    "dd = defaultdict(int)\n",
    "d = dict()\n",
    "\n",
    "d[1] = 'a'\n",
    "d[2] = 'b'\n",
    "\n",
    "dd[1] = 'A'\n",
    "dd[2] = 'B'\n",
    "\n",
    "if dd[3]:\n",
    "    print('yes')\n",
    "\n",
    "print('d: {0}'.format(d))\n",
    "print('dd: {0}'.format(dd))"
   ],
   "outputs": [
    {
     "output_type": "stream",
     "name": "stdout",
     "text": [
      "d: {1: 'a', 2: 'b'}\n",
      "dd: defaultdict(<class 'int'>, {1: 'A', 2: 'B', 3: 0})\n"
     ]
    }
   ],
   "metadata": {}
  },
  {
   "cell_type": "code",
   "execution_count": 22,
   "source": [
    "dd = defaultdict(int)\n",
    "\n",
    "for key in 'godzilla':\n",
    "    dd[key] = dd[key] + 1\n",
    "\n",
    "dd"
   ],
   "outputs": [
    {
     "output_type": "execute_result",
     "data": {
      "text/plain": [
       "defaultdict(int, {'g': 1, 'o': 1, 'd': 1, 'z': 1, 'i': 1, 'l': 2, 'a': 1})"
      ]
     },
     "metadata": {},
     "execution_count": 22
    }
   ],
   "metadata": {}
  }
 ],
 "metadata": {
  "orig_nbformat": 4,
  "language_info": {
   "name": "python",
   "version": "3.7.11",
   "mimetype": "text/x-python",
   "codemirror_mode": {
    "name": "ipython",
    "version": 3
   },
   "pygments_lexer": "ipython3",
   "nbconvert_exporter": "python",
   "file_extension": ".py"
  },
  "kernelspec": {
   "name": "python3",
   "display_name": "Python 3.7.11 64-bit ('tf115': conda)"
  },
  "interpreter": {
   "hash": "44318280c80392b0cb29443ed6cd725f3ac6d3cd390aa869a59ed7e0bfefd667"
  }
 },
 "nbformat": 4,
 "nbformat_minor": 2
}