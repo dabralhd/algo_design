{
 "cells": [
  {
   "cell_type": "code",
   "execution_count": 102,
   "id": "8e24532f",
   "metadata": {},
   "outputs": [],
   "source": [
    "import math\n",
    "\n",
    "def maximum_subarray(nums: [int])->[int]:\n",
    "    if len(nums) == 0:\n",
    "        return -1\n",
    "    max, total = nums[0], nums[0]\n",
    "    max_begin, begin = 0, 0\n",
    "    max_end, end = 0, 0\n",
    "    \n",
    "    for idx in range(1, len(nums)):\n",
    "        if nums[idx] > total + nums[idx]:\n",
    "            total = nums[idx]\n",
    "            begin = idx            \n",
    "        else:\n",
    "            total += nums[idx]\n",
    "        end = idx\n",
    "        \n",
    "        if total >= max:\n",
    "            max = total\n",
    "            max_begin = begin\n",
    "            max_end = end  \n",
    "            \n",
    "    return max"
   ]
  },
  {
   "cell_type": "code",
   "execution_count": 103,
   "id": "5c5fe731",
   "metadata": {},
   "outputs": [],
   "source": [
    "# https://leetcode.com/problems/maximum-subarray/\n",
    "\n",
    "import pytest\n",
    "\n",
    "def test_maximum_subarray():\n",
    "    nums = [1,2,-1,-2,2,1,-2,1,4,-5,4]\n",
    "    assert maximum_subarray(nums) == 6\n",
    "    \n",
    "def test_maximum_subarray_emptyarray():\n",
    "    nums = []\n",
    "    assert maximum_subarray(nums) == -1    "
   ]
  },
  {
   "cell_type": "code",
   "execution_count": 104,
   "id": "7cf906dc",
   "metadata": {},
   "outputs": [],
   "source": [
    "test_maximum_subarray()"
   ]
  }
 ],
 "metadata": {
  "kernelspec": {
   "display_name": "Python 3 (ipykernel)",
   "language": "python",
   "name": "python3"
  },
  "language_info": {
   "codemirror_mode": {
    "name": "ipython",
    "version": 3
   },
   "file_extension": ".py",
   "mimetype": "text/x-python",
   "name": "python",
   "nbconvert_exporter": "python",
   "pygments_lexer": "ipython3",
   "version": "3.9.13"
  }
 },
 "nbformat": 4,
 "nbformat_minor": 5
}
