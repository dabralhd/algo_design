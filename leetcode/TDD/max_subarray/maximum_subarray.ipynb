{
 "cells": [
  {
   "cell_type": "code",
   "execution_count": 97,
   "id": "8e24532f",
   "metadata": {},
   "outputs": [],
   "source": [
    "nums = [1,2,-1,-2,2,1,-2,1,4,-5,4]\n",
    "\n",
    "import math\n",
    "\n",
    "def maximum_subarray(nums: [int])->[int]:\n",
    "    max, total = nums[0], nums[0]\n",
    "    max_begin, begin = 0, 0\n",
    "    max_end, end = 0, 0\n",
    "    \n",
    "    for idx in range(1, len(nums)):\n",
    "        if nums[idx] > total + nums[idx]:\n",
    "            total = nums[idx]\n",
    "            begin = idx            \n",
    "        else:\n",
    "            total += nums[idx]\n",
    "        end = idx\n",
    "        \n",
    "        if total >= max:\n",
    "            max = total\n",
    "            max_begin = begin\n",
    "            max_end = end  \n",
    "            \n",
    "    return max"
   ]
  },
  {
   "cell_type": "code",
   "execution_count": 98,
   "id": "5c5fe731",
   "metadata": {},
   "outputs": [],
   "source": [
    "# https://leetcode.com/problems/maximum-subarray/\n",
    "\n",
    "import pytest\n",
    "\n",
    "\n",
    "def test_maximum_subarray():\n",
    "    assert maximum_subarray(nums) == 6"
   ]
  },
  {
   "cell_type": "code",
   "execution_count": 99,
   "id": "87087143",
   "metadata": {},
   "outputs": [],
   "source": [
    "test_maximum_subarray()"
   ]
  },
  {
   "cell_type": "code",
   "execution_count": null,
   "id": "7e69a623",
   "metadata": {},
   "outputs": [],
   "source": []
  },
  {
   "cell_type": "code",
   "execution_count": null,
   "id": "7d54614a",
   "metadata": {},
   "outputs": [],
   "source": []
  }
 ],
 "metadata": {
  "kernelspec": {
   "display_name": "Python 3 (ipykernel)",
   "language": "python",
   "name": "python3"
  },
  "language_info": {
   "codemirror_mode": {
    "name": "ipython",
    "version": 3
   },
   "file_extension": ".py",
   "mimetype": "text/x-python",
   "name": "python",
   "nbconvert_exporter": "python",
   "pygments_lexer": "ipython3",
   "version": "3.9.13"
  }
 },
 "nbformat": 4,
 "nbformat_minor": 5
}
