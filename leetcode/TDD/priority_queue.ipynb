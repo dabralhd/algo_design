{
 "cells": [
  {
   "cell_type": "markdown",
   "id": "58f82745",
   "metadata": {},
   "source": [
    "# Simple priority queue of ints"
   ]
  },
  {
   "cell_type": "code",
   "execution_count": 12,
   "id": "f71dd0f8",
   "metadata": {},
   "outputs": [],
   "source": [
    "import queue\n",
    "pq = queue.PriorityQueue()"
   ]
  },
  {
   "cell_type": "code",
   "execution_count": 13,
   "id": "e015fbe1",
   "metadata": {},
   "outputs": [],
   "source": [
    "pq.put(4)\n",
    "pq.put(2)\n",
    "pq.put(6)\n",
    "pq.put(1)"
   ]
  },
  {
   "cell_type": "code",
   "execution_count": 14,
   "id": "3f1dbc8e",
   "metadata": {},
   "outputs": [
    {
     "name": "stdout",
     "output_type": "stream",
     "text": [
      "1\n",
      "2\n",
      "4\n",
      "6\n"
     ]
    }
   ],
   "source": [
    "while pq.qsize():\n",
    "    print(pq.get())"
   ]
  },
  {
   "cell_type": "code",
   "execution_count": 15,
   "id": "fb417f83",
   "metadata": {},
   "outputs": [],
   "source": [
    "del pq"
   ]
  },
  {
   "cell_type": "markdown",
   "id": "b5e9124e",
   "metadata": {},
   "source": [
    "# priority queue of strings"
   ]
  },
  {
   "cell_type": "code",
   "execution_count": 17,
   "id": "be18fa65",
   "metadata": {},
   "outputs": [
    {
     "name": "stdout",
     "output_type": "stream",
     "text": [
      "a\n",
      "b\n",
      "c\n",
      "d\n"
     ]
    }
   ],
   "source": [
    "pq = queue.PriorityQueue()\n",
    "\n",
    "pq.put('a')\n",
    "pq.put('b')\n",
    "pq.put('c')\n",
    "pq.put('d')\n",
    "\n",
    "while pq.qsize():\n",
    "    print(pq.get())\n",
    "    \n",
    "del pq"
   ]
  },
  {
   "cell_type": "markdown",
   "id": "6e147e81",
   "metadata": {},
   "source": [
    "# mention priority programatically"
   ]
  },
  {
   "cell_type": "code",
   "execution_count": 27,
   "id": "b687aa79",
   "metadata": {},
   "outputs": [
    {
     "name": "stdout",
     "output_type": "stream",
     "text": [
      "(1, 'amit')\n",
      "(3, 'rajan')\n",
      "(20, 'sumit')\n",
      "(40, 'sanjay')\n"
     ]
    }
   ],
   "source": [
    "pq = queue.PriorityQueue()\n",
    "\n",
    "pq.put((1, 'amit'))\n",
    "pq.put((20, 'sumit'))\n",
    "pq.put((3, 'rajan'))\n",
    "pq.put((40, 'sanjay'))\n",
    "\n",
    "while pq.qsize():\n",
    "    print(pq.get())\n",
    "    \n",
    "del pq"
   ]
  },
  {
   "cell_type": "code",
   "execution_count": null,
   "id": "15e813f2",
   "metadata": {},
   "outputs": [],
   "source": []
  },
  {
   "cell_type": "code",
   "execution_count": null,
   "id": "d13104a7",
   "metadata": {},
   "outputs": [],
   "source": []
  }
 ],
 "metadata": {
  "kernelspec": {
   "display_name": "Python 3 (ipykernel)",
   "language": "python",
   "name": "python3"
  },
  "language_info": {
   "codemirror_mode": {
    "name": "ipython",
    "version": 3
   },
   "file_extension": ".py",
   "mimetype": "text/x-python",
   "name": "python",
   "nbconvert_exporter": "python",
   "pygments_lexer": "ipython3",
   "version": "3.9.13"
  }
 },
 "nbformat": 4,
 "nbformat_minor": 5
}
